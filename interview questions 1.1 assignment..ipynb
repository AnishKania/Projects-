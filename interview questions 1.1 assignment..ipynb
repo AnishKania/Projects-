{
 "cells": [
  {
   "cell_type": "markdown",
   "id": "fatal-license",
   "metadata": {},
   "source": [
    "# interview questions for Data Types, Operators, Conditional Statements, Looping Statements, Functions"
   ]
  },
  {
   "cell_type": "code",
   "execution_count": 1,
   "id": "collaborative-combat",
   "metadata": {},
   "outputs": [],
   "source": [
    "# Q.1. Differentiate between lists and tuples.\n",
    "# Ans.=>The major difference is that a list is mutable, but a tuple is immutable."
   ]
  },
  {
   "cell_type": "code",
   "execution_count": 2,
   "id": "certain-munich",
   "metadata": {},
   "outputs": [],
   "source": [
    "# Q.2. What are negative indices?\n",
    "# Ans=> A negative index, unlike a positive one, begins searching from the right."
   ]
  },
  {
   "cell_type": "code",
   "execution_count": 3,
   "id": "divided-frame",
   "metadata": {},
   "outputs": [],
   "source": [
    "# Q.3. Is Python case-sensitive?\n",
    "# Ans=> A language is case-sensitive if it distinguishes between identifiers like myname and Myname.\n",
    "#      In other words, it cares about case- lowercase or uppercase"
   ]
  },
  {
   "cell_type": "code",
   "execution_count": 4,
   "id": "scheduled-health",
   "metadata": {},
   "outputs": [],
   "source": [
    "# Q.4. How long can an identifier be in Python?\n",
    "#Ans=> It can only begin with an underscore or a character from A-Z or a-z.\n",
    "#      The rest of it can contain anything from the following: A-Z/a-z/_/0-9.\n",
    "#      Python is case-sensitive.\n",
    "#      Keywords cannot be used as identifiers. (keyword = and,or,break,def,True,False,not,pass,while,print and ...etc.)"
   ]
  },
  {
   "cell_type": "code",
   "execution_count": 5,
   "id": "cubic-webmaster",
   "metadata": {},
   "outputs": [],
   "source": [
    "# Q.5. How would you convert a string into lowercase?\n",
    "# Ans=> We use the lower() method for this.\n",
    "#   => 'AyuShi'.lower()"
   ]
  },
  {
   "cell_type": "code",
   "execution_count": 6,
   "id": "nearby-clark",
   "metadata": {},
   "outputs": [],
   "source": [
    "#Q.6. What is the pass statement in Python?\n",
    "#Ans=> There may be times in our code when we haven’t decided what to do yet, but we must type something for it to be\n",
    "#      syntactically correct. In such a case, we use the pass statement."
   ]
  },
  {
   "cell_type": "code",
   "execution_count": 7,
   "id": "laden-slovakia",
   "metadata": {},
   "outputs": [],
   "source": [
    "# Q.7. Explain help() and dir() functions in Python.\n",
    "#Ans=> The help() function displays the documentation string and help for its argument.\n",
    "#      The dir() function displays all the members of an object(any kind)."
   ]
  },
  {
   "cell_type": "code",
   "execution_count": 8,
   "id": "difficult-trance",
   "metadata": {},
   "outputs": [],
   "source": [
    "#Q-8: What are the built-in types available in Python?\n",
    "#    Here is the list of most commonly used built-in types that Python supports:\n",
    "#    1). Immutable built-in datatypes of Python\n",
    "#        1=> Numbers\n",
    "#        2=> Strings\n",
    "#        3=> Tuples\n",
    "#    2). Mutable built-in datatypes of Python\n",
    "#        1=> List\n",
    "#        2=> Dictionaries\n",
    "#        3)= Sets"
   ]
  },
  {
   "cell_type": "code",
   "execution_count": 9,
   "id": "veterinary-stuff",
   "metadata": {},
   "outputs": [],
   "source": [
    "#Q-9: What are the principal differences between the lambda and def?\n",
    "#Ans=> Def can hold multiple expressions while lambda is a uni-expression function.\n",
    "#      Def generates a function and designates a name to call it later. Lambda forms a function object and returns it.\n",
    "#      Def can have a return statement. Lambda can’t have return statements.\n",
    "#      Lambda supports to get used inside a list and dictionary."
   ]
  },
  {
   "cell_type": "code",
   "execution_count": 10,
   "id": "canadian-letters",
   "metadata": {},
   "outputs": [],
   "source": [
    "#Q-10: What is slicing in Python?\n",
    "#Ans=> Slicing is a string operation for extracting a part of the string, or some part of a list. In Python, a string (say text)\n",
    "#      begins at index 0, and the nth character stores at position text[n-1]. Python can also perform reverse indexing, i.e., in\n",
    "#      the backward direction, with the help of negative numbers. In Python, the slice() is also a constructor function which\n",
    "#      generates a slice object. The result is a set of indices mentioned by range(start, stop, step). The slice() method allows\n",
    "#      three parameters. 1. start – starting number for the slicing to begin. 2. stop – the number which indicates the end of \n",
    "#      slicing. 3. step – the value to increment after each index (default = 1)."
   ]
  },
  {
   "cell_type": "code",
   "execution_count": 11,
   "id": "instructional-russian",
   "metadata": {},
   "outputs": [],
   "source": [
    "#Q-11: What is %s in Python?\n",
    "#Ans=> Python has support for formatting any value into a string. It may contain quite complex expressions. One of the common \n",
    "#      usages is to push values into a string with the %s format specifier"
   ]
  },
  {
   "cell_type": "code",
   "execution_count": 12,
   "id": "false-thunder",
   "metadata": {},
   "outputs": [],
   "source": [
    "# Q-12: What is Docstring in Python?\n",
    "#Ans=> A docstring is a unique text that happens to be the first statement in the following Python constructs:\n",
    "#      Module, Function, Class, or Method definition. A docstring gets added to the __doc__ attribute of the string object."
   ]
  },
  {
   "cell_type": "code",
   "execution_count": 13,
   "id": "dirty-bookmark",
   "metadata": {},
   "outputs": [],
   "source": [
    "#Q-13: What is a function in Python programming?\n",
    "#Ans=> A function is an object which represents a block of code and is a reusable entity. It brings modularity to a program and\n",
    "#      a higher degree of code reusability."
   ]
  },
  {
   "cell_type": "code",
   "execution_count": 14,
   "id": "serious-headset",
   "metadata": {},
   "outputs": [],
   "source": [
    "#Q-14: How many basic types of functions are available in Python?\n",
    "#Ans=> Python gives us two basic types of functions.\n",
    "#     1. Built-in, 2. User-defined."
   ]
  },
  {
   "cell_type": "code",
   "execution_count": 15,
   "id": "appreciated-antique",
   "metadata": {},
   "outputs": [],
   "source": [
    "#Q-15: What is a function call or a callable object in Python?\n",
    "#Ans=> A function in Python gets treated as a callable object. It can allow some arguments and also return a value or multiple\n",
    "#      values in the form of a tuple. Apart from the function, Python has other constructs, such as classes or the class \n",
    "#      instances which fits in the same category."
   ]
  },
  {
   "cell_type": "code",
   "execution_count": 16,
   "id": "architectural-revelation",
   "metadata": {},
   "outputs": [],
   "source": [
    "# Q-16: What is “Call by Value” in Python?\n",
    "#Ans=> In call-by-value, the argument whether an expression or a value gets bound to the respective variable in the function.\n",
    "#      Python will treat that variable as local in the function-level scope. Any changes made to that variable will remain \n",
    "#      local and will not reflect outside the function."
   ]
  },
  {
   "cell_type": "code",
   "execution_count": 17,
   "id": "bigger-packing",
   "metadata": {},
   "outputs": [],
   "source": [
    "#Q-17: Is it mandatory for a Python function to return a value?\n",
    "#Ans=> It is not at all necessary for a function to return any value. However, if needed, we can use None as a return value."
   ]
  },
  {
   "cell_type": "code",
   "execution_count": 18,
   "id": "impaired-infrared",
   "metadata": {},
   "outputs": [],
   "source": [
    "#Q-18: What does the continue do in Python?\n",
    "#Ans=> The continue is a jump statement in Python which moves the control to execute the next iteration in a loop leaving all \n",
    "# the remaining instructions in the block unexecuted. The continue statement is applicable for both the “while” and “for” loops."
   ]
  },
  {
   "cell_type": "code",
   "execution_count": 19,
   "id": "treated-hazard",
   "metadata": {},
   "outputs": [],
   "source": [
    "#Q-19: What does the *args do in Python?\n",
    "#Ans=> We use *args as a parameter in the function header. It gives us the ability to pass N (variable) number of arguments."
   ]
  },
  {
   "cell_type": "code",
   "execution_count": 20,
   "id": "emerging-vintage",
   "metadata": {},
   "outputs": [],
   "source": [
    "# Q-20: What does the **kwargs do in Python?\n",
    "#Ans=>  We can also use the **kwargs syntax in a Python function declaration. It let us pass N (variable) number of arguments \n",
    "#       which can be named or keyworded."
   ]
  },
  {
   "cell_type": "code",
   "execution_count": 21,
   "id": "inappropriate-costa",
   "metadata": {},
   "outputs": [],
   "source": [
    "#Q-21: When should you use the “break” in Python?\n",
    "#Ans=> Python provides a break statement to exit from a loop. Whenever the break hits in the code, the control of the program \n",
    "#      immediately exits from the body of the loop. The break statement in a nested loop causes the control to exit from the \n",
    "#      inner iterative block."
   ]
  },
  {
   "cell_type": "code",
   "execution_count": null,
   "id": "sacred-vancouver",
   "metadata": {},
   "outputs": [],
   "source": []
  }
 ],
 "metadata": {
  "kernelspec": {
   "display_name": "Python 3",
   "language": "python",
   "name": "python3"
  },
  "language_info": {
   "codemirror_mode": {
    "name": "ipython",
    "version": 3
   },
   "file_extension": ".py",
   "mimetype": "text/x-python",
   "name": "python",
   "nbconvert_exporter": "python",
   "pygments_lexer": "ipython3",
   "version": "3.9.1"
  }
 },
 "nbformat": 4,
 "nbformat_minor": 5
}
